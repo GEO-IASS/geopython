{
 "metadata": {
  "name": "",
  "signature": "sha256:ef4668e90f0bb3dc0e9f90b7d5ca55717074c1ffe086b896927fb3c20fef473a"
 },
 "nbformat": 3,
 "nbformat_minor": 0,
 "worksheets": [
  {
   "cells": [
    {
     "cell_type": "markdown",
     "metadata": {},
     "source": [
      "# Vector data introduction\n",
      "\n",
      "Traditionly, we use GDAL/OGR library for interacting with vector data. Lately, Shapely library is becoming the popular too, as well as Fiona does.\n",
      "\n",
      "This workshop will focus on Fiona and OGR. [Fiona](http://toblerity.org/fiona/) is maitained by Sean Gillies. It is adding new layer on top of OGR, which is more compliant to what is common in Python. Compared to Fiona, with OGR more low-level data access can be achieved.\n",
      "\n",
      "[Next - Fiona library](Fiona.ipynb)"
     ]
    }
   ],
   "metadata": {}
  }
 ]
}